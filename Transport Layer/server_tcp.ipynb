{
 "cells": [
  {
   "cell_type": "code",
   "execution_count": null,
   "metadata": {},
   "outputs": [
    {
     "name": "stdout",
     "output_type": "stream",
     "text": [
      "Esperando al cliente...\n"
     ]
    }
   ],
   "source": [
    "from socket import socket\n",
    "\n",
    "# Crear el socket.\n",
    "with socket() as s:\n",
    "    # Asociarlo a una dirección de IP y un puerto.\n",
    "    s.bind((\"localhost\", 6190))\n",
    "    # Indicar que este socket actuará como servidor.\n",
    "    s.listen()\n",
    "    # Esperar a la conexión del cliente.\n",
    "    print(\"Esperando al cliente...\")\n",
    "    conn, address = s.accept()\n",
    "    print(f\"address[0]:address[1] se ha conectado.\")\n",
    "    # Esperar a que el cliente envíe datos.\n",
    "    while True:\n",
    "        data = conn.recv(1024)\n",
    "        # Chequear que no esté vacío.\n",
    "        if data:\n",
    "            # Imprimirlo en pantalla y cerrar el socket.\n",
    "            print(\"El cliente ha enviado:\", data)\n",
    "            break\n",
    "\n",
    "# El socket se cierra automáticamente al salir del bloque \"with\".\n",
    "print(\"Conexión cerrada.\")"
   ]
  },
  {
   "cell_type": "code",
   "execution_count": null,
   "metadata": {},
   "outputs": [],
   "source": []
  }
 ],
 "metadata": {
  "kernelspec": {
   "display_name": "Python 3",
   "language": "python",
   "name": "python3"
  },
  "language_info": {
   "codemirror_mode": {
    "name": "ipython",
    "version": 3
   },
   "file_extension": ".py",
   "mimetype": "text/x-python",
   "name": "python",
   "nbconvert_exporter": "python",
   "pygments_lexer": "ipython3",
   "version": "3.7.4"
  }
 },
 "nbformat": 4,
 "nbformat_minor": 2
}
