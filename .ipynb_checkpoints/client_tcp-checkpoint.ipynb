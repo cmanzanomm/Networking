{
 "cells": [
  {
   "cell_type": "code",
   "execution_count": null,
   "metadata": {},
   "outputs": [],
   "source": [
    "from socket import create_connection\n",
    "\n",
    "# Conectar al servidor.\n",
    "with create_connection((\"localhost\", 6190)) as conn:\n",
    "    print(\"Conectado al servidor.\")\n",
    "    # Enviar datos.\n",
    "    conn.sendall(b\"Payload!\")\n",
    "\n",
    "print(\"Conexión cerrada.\")"
   ]
  }
 ],
 "metadata": {
  "kernelspec": {
   "display_name": "Python 3",
   "language": "python",
   "name": "python3"
  },
  "language_info": {
   "codemirror_mode": {
    "name": "ipython",
    "version": 3
   },
   "file_extension": ".py",
   "mimetype": "text/x-python",
   "name": "python",
   "nbconvert_exporter": "python",
   "pygments_lexer": "ipython3",
   "version": "3.7.4"
  }
 },
 "nbformat": 4,
 "nbformat_minor": 2
}
